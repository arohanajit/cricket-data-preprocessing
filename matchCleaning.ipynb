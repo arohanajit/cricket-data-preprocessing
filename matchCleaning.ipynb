{
 "cells": [
  {
   "cell_type": "code",
   "execution_count": null,
   "metadata": {},
   "outputs": [],
   "source": [
    "print(\"2nd program: Defining Function\")\n",
    "def makeMatchCard(matchdf):\n",
    "    matchCard = []\n",
    "    for index,row in matchdf.iterrows():\n",
    "        data = {\n",
    "            \"innings\":row['period'],\n",
    "            \"over\":row['over.actual'],\n",
    "            \"over_number\":row['over.number'],\n",
    "            \"batsman_name\":row['batsman.athlete.displayName'],\n",
    "            \"batsman_team\":row['batsman.team.displayName'],\n",
    "            \"bowler_name\":row['bowler.athlete.displayName'],\n",
    "            \"bowler_team\":row['bowler.team.displayName'],\n",
    "            \"playType\":row['playType.description'],\n",
    "            \"dismissal_type\":row['dismissal.type'],\n",
    "            \"runs\":row['scoreValue'],\n",
    "            \"maidens\":row['over.maiden'],\n",
    "            \"innings_wickets\":row['innings.wickets'],\n",
    "            \"bowler_wickets\":row['bowler.wickets'],\n",
    "            \"matchType\":row['match_type']\n",
    "        }\n",
    "        matchCard.append(data)\n",
    "    return matchCard\n",
    "    "
   ]
  },
  {
   "cell_type": "code",
   "execution_count": 3,
   "metadata": {},
   "outputs": [],
   "source": [
    "print(\"2nd program: retrieving Data\")\n",
    "%store -r matchData\n",
    "%store -r season"
   ]
  },
  {
   "cell_type": "code",
   "execution_count": null,
   "metadata": {},
   "outputs": [],
   "source": [
    "if os.path.isdir(\"{} match cleaned\".format(season)) == False:\n",
    "    print(\"2nd program: making folder\")\n",
    "    os.mkdir(\"{} match cleaned\".format(season))\n",
    "\n",
    "TotalMatch = len(matchData)\n",
    "print(\"For {} season, total matches are {}\".format(season,TotalMatch))\n",
    "\n",
    "print(\"2nd program: final operation\")\n",
    "count = 0\n",
    "for eventNo in matchData:\n",
    "    if count%100==0:\n",
    "        print(\"{} matches done of total {} matches for {} season\".format(count,TotalMatch,season))\n",
    "    if os.path.isfile(\"{} match cleaned/Women's {} season- {}.yaml\".format(season,eventNo[0][-4:],eventNo[4])):\n",
    "        count+=1\n",
    "        continue\n",
    "    elif os.path.isfile(\"{} match cleaned/{} season- {}.yaml\".format(season,eventNo[0][-4:],eventNo[4])):\n",
    "        count+=1\n",
    "        continue\n",
    "    else:\n",
    "        if os.path.isfile(\"{} match data/Women's {} season- {}.csv\".format(season,eventNo[0][-4:],eventNo[4])):\n",
    "            matchdf = pd.read_csv(\"{} match data/Women's {} season- {}.csv\".format(season,eventNo[0][-4:],eventNo[4]))\n",
    "            count+=1\n",
    "            if(len(matchdf.axes[0])>2):\n",
    "                matchCard = makeMatchCard(matchdf)\n",
    "                yaml_dump(\"{} match cleaned/Women's {} season- {}.yaml\".format(season,eventNo[0][-4:],eventNo[4]),matchCard)\n",
    "\n",
    "        elif os.path.isfile(\"{} match data/{} season- {}.csv\".format(season,eventNo[0][-4:],eventNo[4])):\n",
    "            matchdf = pd.read_csv(\"{} match data/{} season- {}.csv\".format(season,eventNo[0][-4:],eventNo[4]))\n",
    "            count+=1\n",
    "            if(len(matchdf.axes[0])>2):\n",
    "                matchCard = makeMatchCard(matchdf)\n",
    "                yaml_dump(\"{} match cleaned/{} season- {}.yaml\".format(season,eventNo[0][-4:],eventNo[4]),matchCard)\n",
    "print(\"{} season complete\".format(season))"
   ]
  }
 ],
 "metadata": {
  "kernelspec": {
   "display_name": "Python 3",
   "language": "python",
   "name": "python3"
  },
  "language_info": {
   "codemirror_mode": {
    "name": "ipython",
    "version": 3
   },
   "file_extension": ".py",
   "mimetype": "text/x-python",
   "name": "python",
   "nbconvert_exporter": "python",
   "pygments_lexer": "ipython3",
   "version": "3.7.0"
  }
 },
 "nbformat": 4,
 "nbformat_minor": 2
}
